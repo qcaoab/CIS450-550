{
 "cells": [
  {
   "cell_type": "markdown",
   "metadata": {},
   "source": [
    "# Download datasets"
   ]
  },
  {
   "cell_type": "markdown",
   "metadata": {},
   "source": [
    "### Note the datasets could be very large! Feel free to check the [dataset website](https://sites.google.com/eng.ucsd.edu/ucsdbookgraph/home) and download files you really need."
   ]
  },
  {
   "cell_type": "markdown",
   "metadata": {},
   "source": [
    "**The datasets are hosted on the google drive. Thus downloading without GUI requires installing the [gdown](https://github.com/wkentaro/gdown) package**:"
   ]
  },
  {
   "cell_type": "markdown",
   "metadata": {},
   "source": [
    "## Download in bash commands\n",
    "\n",
    "**We can install the gdown package in shell:**\n",
    "\n",
    "`$ pip install gdown`\n",
    "\n",
    "**and download the file by specifying its gdrive ID in the following command**\n",
    "\n",
    "`$ gdown 'https://drive.google.com/uc?id={fileID}'`"
   ]
  },
  {
   "cell_type": "markdown",
   "metadata": {},
   "source": [
    "## Download in python\n",
    "\n",
    "**We can also install the gdown package here and download files in python**"
   ]
  },
  {
   "cell_type": "code",
   "execution_count": null,
   "metadata": {},
   "outputs": [],
   "source": [
    "import sys\n",
    "!{sys.executable} -m pip install gdown"
   ]
  },
  {
   "cell_type": "code",
   "execution_count": 2,
   "metadata": {},
   "outputs": [],
   "source": [
    "import pandas as pd\n",
    "import gdown\n",
    "import os"
   ]
  },
  {
   "cell_type": "markdown",
   "metadata": {},
   "source": [
    "**Specify your directory here:**"
   ]
  },
  {
   "cell_type": "code",
   "execution_count": 3,
   "metadata": {},
   "outputs": [],
   "source": [
    "DIR = './'\n",
    "OUT_DIR = '/home/mengting/'"
   ]
  },
  {
   "cell_type": "markdown",
   "metadata": {},
   "source": [
    "**Load the google drive ids of the datasets**"
   ]
  },
  {
   "cell_type": "code",
   "execution_count": 4,
   "metadata": {},
   "outputs": [
    {
     "data": {
      "text/html": [
       "<div>\n",
       "<style scoped>\n",
       "    .dataframe tbody tr th:only-of-type {\n",
       "        vertical-align: middle;\n",
       "    }\n",
       "\n",
       "    .dataframe tbody tr th {\n",
       "        vertical-align: top;\n",
       "    }\n",
       "\n",
       "    .dataframe thead th {\n",
       "        text-align: right;\n",
       "    }\n",
       "</style>\n",
       "<table border=\"1\" class=\"dataframe\">\n",
       "  <thead>\n",
       "    <tr style=\"text-align: right;\">\n",
       "      <th></th>\n",
       "      <th>id</th>\n",
       "      <th>name</th>\n",
       "    </tr>\n",
       "  </thead>\n",
       "  <tbody>\n",
       "    <tr>\n",
       "      <th>0</th>\n",
       "      <td>1TLmSvzHvTLLLMjMoQdkx6pBWon-4bli7</td>\n",
       "      <td>goodreads_book_works.json.gz</td>\n",
       "    </tr>\n",
       "    <tr>\n",
       "      <th>1</th>\n",
       "      <td>19cdwyXwfXx_HDIgxXaHzH0mrx8nMyLvC</td>\n",
       "      <td>goodreads_book_authors.json.gz</td>\n",
       "    </tr>\n",
       "    <tr>\n",
       "      <th>2</th>\n",
       "      <td>1op8D4e5BaxU2JcPUgxM3ZqrodajryFBb</td>\n",
       "      <td>goodreads_book_series.json.gz</td>\n",
       "    </tr>\n",
       "    <tr>\n",
       "      <th>3</th>\n",
       "      <td>1LXpK1UfqtP89H1tYy0pBGHjYk8IhigUK</td>\n",
       "      <td>goodreads_books.json.gz</td>\n",
       "    </tr>\n",
       "    <tr>\n",
       "      <th>4</th>\n",
       "      <td>1ah0_KpUterVi-AHxJ03iKD6O0NfbK0md</td>\n",
       "      <td>goodreads_book_genres_initial.json.gz</td>\n",
       "    </tr>\n",
       "    <tr>\n",
       "      <th>5</th>\n",
       "      <td>1Cf90P5TH84ufrs8qyLrM-iWOXOGjBi9r</td>\n",
       "      <td>goodreads_interactions_children.json.gz</td>\n",
       "    </tr>\n",
       "    <tr>\n",
       "      <th>6</th>\n",
       "      <td>1CCj-cQw_mJLMdvF_YYfQ7ibKA-dC_GA2</td>\n",
       "      <td>goodreads_interactions_comics_graphic.json.gz</td>\n",
       "    </tr>\n",
       "    <tr>\n",
       "      <th>7</th>\n",
       "      <td>1EFHocJIh5nknbUMcz4LnrMEJkwW3Vk6h</td>\n",
       "      <td>goodreads_interactions_fantasy_paranormal.json.gz</td>\n",
       "    </tr>\n",
       "    <tr>\n",
       "      <th>8</th>\n",
       "      <td>10j181giCD94pcYynd6fy2U0RyAlL66YH</td>\n",
       "      <td>goodreads_interactions_history_biography.json.gz</td>\n",
       "    </tr>\n",
       "    <tr>\n",
       "      <th>9</th>\n",
       "      <td>1xuujDT-vOMMkk2Kog0CTT9ADmnD8pa9D</td>\n",
       "      <td>goodreads_interactions_mystery_thriller_crime....</td>\n",
       "    </tr>\n",
       "    <tr>\n",
       "      <th>10</th>\n",
       "      <td>17G5_MeSWuhYnD4fGJMvKRSOlBqCCimxJ</td>\n",
       "      <td>goodreads_interactions_poetry.json.gz</td>\n",
       "    </tr>\n",
       "    <tr>\n",
       "      <th>11</th>\n",
       "      <td>1OmPKA0TmL0nnECDRNF1YpWJw6PBDFl_j</td>\n",
       "      <td>goodreads_interactions_romance.json.gz</td>\n",
       "    </tr>\n",
       "    <tr>\n",
       "      <th>12</th>\n",
       "      <td>1NNX7SWcKahezLFNyiW88QFPAqOAYP5qg</td>\n",
       "      <td>goodreads_interactions_young_adult.json.gz</td>\n",
       "    </tr>\n",
       "    <tr>\n",
       "      <th>13</th>\n",
       "      <td>1R3wJPgyzEX9w6EI8_LmqLbpY4cIC9gw4</td>\n",
       "      <td>goodreads_books_children.json.gz</td>\n",
       "    </tr>\n",
       "    <tr>\n",
       "      <th>14</th>\n",
       "      <td>1ICk5x0HXvXDp5Zt54CKPh5qz1HyUIn9m</td>\n",
       "      <td>goodreads_books_comics_graphic.json.gz</td>\n",
       "    </tr>\n",
       "    <tr>\n",
       "      <th>15</th>\n",
       "      <td>1x8IudloezYEg6qDTPxuBkqGuQ3xIBKrt</td>\n",
       "      <td>goodreads_books_fantasy_paranormal.json.gz</td>\n",
       "    </tr>\n",
       "    <tr>\n",
       "      <th>16</th>\n",
       "      <td>1roQnVtWxVE1tbiXyabrotdZyUY7FA82W</td>\n",
       "      <td>goodreads_books_history_biography.json.gz</td>\n",
       "    </tr>\n",
       "    <tr>\n",
       "      <th>17</th>\n",
       "      <td>1ACGrQS0sX4-26D358G2i5pja1Y6CsGtz</td>\n",
       "      <td>goodreads_books_mystery_thriller_crime.json.gz</td>\n",
       "    </tr>\n",
       "    <tr>\n",
       "      <th>18</th>\n",
       "      <td>1H6xUV48D5sa2uSF_BusW-IBJ7PCQZTS1</td>\n",
       "      <td>goodreads_books_poetry.json.gz</td>\n",
       "    </tr>\n",
       "    <tr>\n",
       "      <th>19</th>\n",
       "      <td>1juZreOlU4FhGnBfP781jAvYdv-UPSf6Q</td>\n",
       "      <td>goodreads_books_romance.json.gz</td>\n",
       "    </tr>\n",
       "    <tr>\n",
       "      <th>20</th>\n",
       "      <td>1gH7dG4yQzZykTpbHYsrw2nFknjUm0Mol</td>\n",
       "      <td>goodreads_books_young_adult.json.gz</td>\n",
       "    </tr>\n",
       "    <tr>\n",
       "      <th>21</th>\n",
       "      <td>1CHTAaNwyzvbi1TR08MJrJ03BxA266Yxr</td>\n",
       "      <td>book_id_map.csv</td>\n",
       "    </tr>\n",
       "    <tr>\n",
       "      <th>22</th>\n",
       "      <td>15ax-h0Oi_Oyee8gY_aAQN6odoijmiz6Q</td>\n",
       "      <td>user_id_map.csv</td>\n",
       "    </tr>\n",
       "    <tr>\n",
       "      <th>23</th>\n",
       "      <td>1zmylV7XW2dfQVCLeg1LbllfQtHD2KUon</td>\n",
       "      <td>goodreads_interactions.csv</td>\n",
       "    </tr>\n",
       "  </tbody>\n",
       "</table>\n",
       "</div>"
      ],
      "text/plain": [
       "                                   id  \\\n",
       "0   1TLmSvzHvTLLLMjMoQdkx6pBWon-4bli7   \n",
       "1   19cdwyXwfXx_HDIgxXaHzH0mrx8nMyLvC   \n",
       "2   1op8D4e5BaxU2JcPUgxM3ZqrodajryFBb   \n",
       "3   1LXpK1UfqtP89H1tYy0pBGHjYk8IhigUK   \n",
       "4   1ah0_KpUterVi-AHxJ03iKD6O0NfbK0md   \n",
       "5   1Cf90P5TH84ufrs8qyLrM-iWOXOGjBi9r   \n",
       "6   1CCj-cQw_mJLMdvF_YYfQ7ibKA-dC_GA2   \n",
       "7   1EFHocJIh5nknbUMcz4LnrMEJkwW3Vk6h   \n",
       "8   10j181giCD94pcYynd6fy2U0RyAlL66YH   \n",
       "9   1xuujDT-vOMMkk2Kog0CTT9ADmnD8pa9D   \n",
       "10  17G5_MeSWuhYnD4fGJMvKRSOlBqCCimxJ   \n",
       "11  1OmPKA0TmL0nnECDRNF1YpWJw6PBDFl_j   \n",
       "12  1NNX7SWcKahezLFNyiW88QFPAqOAYP5qg   \n",
       "13  1R3wJPgyzEX9w6EI8_LmqLbpY4cIC9gw4   \n",
       "14  1ICk5x0HXvXDp5Zt54CKPh5qz1HyUIn9m   \n",
       "15  1x8IudloezYEg6qDTPxuBkqGuQ3xIBKrt   \n",
       "16  1roQnVtWxVE1tbiXyabrotdZyUY7FA82W   \n",
       "17  1ACGrQS0sX4-26D358G2i5pja1Y6CsGtz   \n",
       "18  1H6xUV48D5sa2uSF_BusW-IBJ7PCQZTS1   \n",
       "19  1juZreOlU4FhGnBfP781jAvYdv-UPSf6Q   \n",
       "20  1gH7dG4yQzZykTpbHYsrw2nFknjUm0Mol   \n",
       "21  1CHTAaNwyzvbi1TR08MJrJ03BxA266Yxr   \n",
       "22  15ax-h0Oi_Oyee8gY_aAQN6odoijmiz6Q   \n",
       "23  1zmylV7XW2dfQVCLeg1LbllfQtHD2KUon   \n",
       "\n",
       "                                                 name  \n",
       "0                        goodreads_book_works.json.gz  \n",
       "1                      goodreads_book_authors.json.gz  \n",
       "2                       goodreads_book_series.json.gz  \n",
       "3                             goodreads_books.json.gz  \n",
       "4               goodreads_book_genres_initial.json.gz  \n",
       "5             goodreads_interactions_children.json.gz  \n",
       "6       goodreads_interactions_comics_graphic.json.gz  \n",
       "7   goodreads_interactions_fantasy_paranormal.json.gz  \n",
       "8    goodreads_interactions_history_biography.json.gz  \n",
       "9   goodreads_interactions_mystery_thriller_crime....  \n",
       "10              goodreads_interactions_poetry.json.gz  \n",
       "11             goodreads_interactions_romance.json.gz  \n",
       "12         goodreads_interactions_young_adult.json.gz  \n",
       "13                   goodreads_books_children.json.gz  \n",
       "14             goodreads_books_comics_graphic.json.gz  \n",
       "15         goodreads_books_fantasy_paranormal.json.gz  \n",
       "16          goodreads_books_history_biography.json.gz  \n",
       "17     goodreads_books_mystery_thriller_crime.json.gz  \n",
       "18                     goodreads_books_poetry.json.gz  \n",
       "19                    goodreads_books_romance.json.gz  \n",
       "20                goodreads_books_young_adult.json.gz  \n",
       "21                                    book_id_map.csv  \n",
       "22                                    user_id_map.csv  \n",
       "23                         goodreads_interactions.csv  "
      ]
     },
     "metadata": {},
     "output_type": "display_data"
    }
   ],
   "source": [
    "file_ids = pd.read_csv(os.path.join(DIR, 'gdrive_id.csv'))\n",
    "display(file_ids)"
   ]
  },
  {
   "cell_type": "markdown",
   "metadata": {},
   "source": [
    "**Now we can create a fileName-gdriveID map and a function to download files by name**"
   ]
  },
  {
   "cell_type": "code",
   "execution_count": 5,
   "metadata": {},
   "outputs": [],
   "source": [
    "file_id_map = dict(zip(file_ids['name'].values, file_ids['id'].values))\n",
    "\n",
    "def download_by_name(fname, output=None, quiet=False):\n",
    "    if fname in file_id_map:\n",
    "        url = 'https://drive.google.com/uc?id='+file_id_map[fname]\n",
    "        gdown.download(url, output=output, quiet=quiet)\n",
    "    else:\n",
    "        print('The file', fname, 'can not be found!')"
   ]
  },
  {
   "cell_type": "markdown",
   "metadata": {},
   "source": [
    "**Switch to the output directory specified before:**"
   ]
  },
  {
   "cell_type": "code",
   "execution_count": 6,
   "metadata": {},
   "outputs": [],
   "source": [
    "os.chdir(OUT_DIR)"
   ]
  },
  {
   "cell_type": "markdown",
   "metadata": {},
   "source": [
    "**Here we go!**"
   ]
  },
  {
   "cell_type": "code",
   "execution_count": 7,
   "metadata": {},
   "outputs": [
    {
     "name": "stderr",
     "output_type": "stream",
     "text": [
      "Downloading...\n",
      "From: https://drive.google.com/uc?id=1H6xUV48D5sa2uSF_BusW-IBJ7PCQZTS1\n",
      "To: /home/mengting/goodreads_books_poetry.json.gz\n",
      "27.9MB [00:00, 73.3MB/s]\n"
     ]
    }
   ],
   "source": [
    "download_by_name('goodreads_books_poetry.json.gz')"
   ]
  },
  {
   "cell_type": "code",
   "execution_count": null,
   "metadata": {},
   "outputs": [],
   "source": []
  }
 ],
 "metadata": {
  "kernelspec": {
   "display_name": "Python 3",
   "language": "python",
   "name": "python3"
  },
  "language_info": {
   "codemirror_mode": {
    "name": "ipython",
    "version": 3
   },
   "file_extension": ".py",
   "mimetype": "text/x-python",
   "name": "python",
   "nbconvert_exporter": "python",
   "pygments_lexer": "ipython3",
   "version": "3.7.3"
  }
 },
 "nbformat": 4,
 "nbformat_minor": 2
}
