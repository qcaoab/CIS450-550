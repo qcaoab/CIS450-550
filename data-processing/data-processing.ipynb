{
 "cells": [
  {
   "cell_type": "code",
   "execution_count": 31,
   "metadata": {},
   "outputs": [],
   "source": [
    "import gzip\n",
    "import json\n",
    "import re\n",
    "import os\n",
    "import sys\n",
    "import numpy as np\n",
    "import pandas as pd"
   ]
  },
  {
   "cell_type": "code",
   "execution_count": 32,
   "metadata": {},
   "outputs": [],
   "source": [
    "DIR = 'data' #put the data files in the data dir"
   ]
  },
  {
   "cell_type": "code",
   "execution_count": 64,
   "metadata": {},
   "outputs": [],
   "source": [
    "test = pd.read_json(os.path.join(DIR, 'goodreads_books_poetry.json.gz'),lines=True)"
   ]
  },
  {
   "cell_type": "code",
   "execution_count": 65,
   "metadata": {},
   "outputs": [
    {
     "data": {
      "text/plain": [
       "isbn                     object\n",
       "text_reviews_count        int64\n",
       "series                   object\n",
       "country_code             object\n",
       "language_code            object\n",
       "popular_shelves          object\n",
       "asin                     object\n",
       "is_ebook                 object\n",
       "average_rating          float64\n",
       "kindle_asin              object\n",
       "similar_books            object\n",
       "description              object\n",
       "format                   object\n",
       "link                     object\n",
       "authors                  object\n",
       "publisher                object\n",
       "num_pages                object\n",
       "publication_day          object\n",
       "isbn13                   object\n",
       "publication_month        object\n",
       "edition_information      object\n",
       "publication_year         object\n",
       "url                      object\n",
       "image_url                object\n",
       "book_id                   int64\n",
       "ratings_count             int64\n",
       "work_id                   int64\n",
       "title                    object\n",
       "title_without_series     object\n",
       "dtype: object"
      ]
     },
     "execution_count": 65,
     "metadata": {},
     "output_type": "execute_result"
    }
   ],
   "source": [
    "test.dtypes"
   ]
  },
  {
   "cell_type": "code",
   "execution_count": 62,
   "metadata": {},
   "outputs": [
    {
     "data": {
      "text/plain": [
       "isbn                                                                     \n",
       "text_reviews_count                                                      1\n",
       "series                                                                 []\n",
       "country_code                                                           US\n",
       "language_code                                                         eng\n",
       "popular_shelves         [{'count': '8', 'name': 'to-read'}, {'count': ...\n",
       "asin                                                                     \n",
       "is_ebook                                                            false\n",
       "average_rating                                                       3.83\n",
       "kindle_asin                                                              \n",
       "similar_books                                                          []\n",
       "description             Number 30 in a series of literary pamphlets pu...\n",
       "format                                                          Paperback\n",
       "link                    https://www.goodreads.com/book/show/16037549-v...\n",
       "authors                              [{'author_id': '15585', 'role': ''}]\n",
       "publisher                                   Houghton, Mifflin and Company\n",
       "num_pages                                                              80\n",
       "publication_day                                                         1\n",
       "isbn13                                                                   \n",
       "publication_month                                                      11\n",
       "edition_information                                                      \n",
       "publication_year                                                     1887\n",
       "url                     https://www.goodreads.com/book/show/16037549-v...\n",
       "image_url               https://images.gr-assets.com/books/1348176637m...\n",
       "book_id                                                          16037549\n",
       "ratings_count                                                           3\n",
       "work_id                                                           5212748\n",
       "title                               Vision of Sir Launfal and Other Poems\n",
       "title_without_series                Vision of Sir Launfal and Other Poems\n",
       "Name: 0, dtype: object"
      ]
     },
     "execution_count": 62,
     "metadata": {},
     "output_type": "execute_result"
    }
   ],
   "source": [
    "test.iloc[0]"
   ]
  },
  {
   "cell_type": "code",
   "execution_count": 44,
   "metadata": {},
   "outputs": [],
   "source": [
    "series = pd.read_json(os.path.join(DIR, 'goodreads_book_series.json.gz'),lines=True)"
   ]
  },
  {
   "cell_type": "code",
   "execution_count": 53,
   "metadata": {},
   "outputs": [
    {
     "data": {
      "text/plain": [
       "Index(['numbered', 'note', 'description', 'title', 'series_works_count',\n",
       "       'series_id', 'primary_work_count'],\n",
       "      dtype='object')"
      ]
     },
     "execution_count": 53,
     "metadata": {},
     "output_type": "execute_result"
    }
   ],
   "source": [
    "series.columns"
   ]
  },
  {
   "cell_type": "code",
   "execution_count": 35,
   "metadata": {},
   "outputs": [],
   "source": [
    "def load_data(file_name, head = 500):\n",
    "    count = 0\n",
    "    data = []\n",
    "    with gzip.open(file_name) as fin:\n",
    "        for l in fin:\n",
    "            d = json.loads(l)\n",
    "            count += 1\n",
    "            data.append(d)\n",
    "            \n",
    "            # break if reaches the 100th line\n",
    "            if (head is not None) and (count > head):\n",
    "                break\n",
    "    return data"
   ]
  },
  {
   "cell_type": "code",
   "execution_count": 36,
   "metadata": {},
   "outputs": [],
   "source": [
    "books = load_data(os.path.join(DIR, 'goodreads_books_poetry.json.gz'))"
   ]
  },
  {
   "cell_type": "code",
   "execution_count": 43,
   "metadata": {},
   "outputs": [
    {
     "data": {
      "text/plain": [
       "{'isbn': '',\n",
       " 'text_reviews_count': '1',\n",
       " 'series': [],\n",
       " 'country_code': 'US',\n",
       " 'language_code': 'eng',\n",
       " 'popular_shelves': [{'count': '8', 'name': 'to-read'},\n",
       "  {'count': '3', 'name': 'poetry'},\n",
       "  {'count': '2', 'name': 'currently-reading'},\n",
       "  {'count': '1', 'name': '01-kindle'},\n",
       "  {'count': '1', 'name': 'real-books'},\n",
       "  {'count': '1', 'name': 'personal-library'}],\n",
       " 'asin': '',\n",
       " 'is_ebook': 'false',\n",
       " 'average_rating': '3.83',\n",
       " 'kindle_asin': '',\n",
       " 'similar_books': [],\n",
       " 'description': 'Number 30 in a series of literary pamphlets published monthly and available at the price of 15 cents per copy, or a yearly subscription (19 numbers) for $1.25',\n",
       " 'format': 'Paperback',\n",
       " 'link': 'https://www.goodreads.com/book/show/16037549-vision-of-sir-launfal-and-other-poems',\n",
       " 'authors': [{'author_id': '15585', 'role': ''}],\n",
       " 'publisher': 'Houghton, Mifflin and Company',\n",
       " 'num_pages': '80',\n",
       " 'publication_day': '1',\n",
       " 'isbn13': '',\n",
       " 'publication_month': '11',\n",
       " 'edition_information': '',\n",
       " 'publication_year': '1887',\n",
       " 'url': 'https://www.goodreads.com/book/show/16037549-vision-of-sir-launfal-and-other-poems',\n",
       " 'image_url': 'https://images.gr-assets.com/books/1348176637m/16037549.jpg',\n",
       " 'book_id': '16037549',\n",
       " 'ratings_count': '3',\n",
       " 'work_id': '5212748',\n",
       " 'title': 'Vision of Sir Launfal and Other Poems',\n",
       " 'title_without_series': 'Vision of Sir Launfal and Other Poems'}"
      ]
     },
     "execution_count": 43,
     "metadata": {},
     "output_type": "execute_result"
    }
   ],
   "source": [
    "books[0]"
   ]
  },
  {
   "cell_type": "code",
   "execution_count": null,
   "metadata": {},
   "outputs": [],
   "source": []
  },
  {
   "cell_type": "code",
   "execution_count": null,
   "metadata": {},
   "outputs": [],
   "source": []
  },
  {
   "cell_type": "code",
   "execution_count": null,
   "metadata": {},
   "outputs": [],
   "source": []
  }
 ],
 "metadata": {
  "kernelspec": {
   "display_name": "Python 3",
   "language": "python",
   "name": "python3"
  },
  "language_info": {
   "codemirror_mode": {
    "name": "ipython",
    "version": 3
   },
   "file_extension": ".py",
   "mimetype": "text/x-python",
   "name": "python",
   "nbconvert_exporter": "python",
   "pygments_lexer": "ipython3",
   "version": "3.7.1"
  }
 },
 "nbformat": 4,
 "nbformat_minor": 2
}
